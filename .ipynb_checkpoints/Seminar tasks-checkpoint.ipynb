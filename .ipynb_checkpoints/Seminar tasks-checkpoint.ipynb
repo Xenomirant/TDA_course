{
 "cells": [
  {
   "cell_type": "code",
   "execution_count": 1,
   "id": "b29195cc-4802-4696-9f20-1ddbc0474850",
   "metadata": {},
   "outputs": [],
   "source": [
    "import gudhi as gd"
   ]
  },
  {
   "cell_type": "code",
   "execution_count": null,
   "id": "737290e8-5975-4926-9afa-593c08c5fa3d",
   "metadata": {},
   "outputs": [],
   "source": []
  },
  {
   "cell_type": "markdown",
   "id": "db65de1d-39a6-42e7-b06c-2a8dfdd9f33c",
   "metadata": {},
   "source": [
    "### Sphere triangulation"
   ]
  },
  {
   "cell_type": "code",
   "execution_count": 3,
   "id": "f1c833d6-0886-4d74-b1c8-635b74e493e5",
   "metadata": {},
   "outputs": [],
   "source": [
    "smp_tree = gd.simplex_tree.SimplexTree()"
   ]
  },
  {
   "cell_type": "code",
   "execution_count": 4,
   "id": "d36ed26c-0318-4a5e-84e0-775b5f32ce2d",
   "metadata": {},
   "outputs": [
    {
     "data": {
      "text/plain": [
       "True"
      ]
     },
     "execution_count": 4,
     "metadata": {},
     "output_type": "execute_result"
    }
   ],
   "source": [
    "smp_tree.insert([1, 2, 3])\n",
    "smp_tree.insert([1, 2, 4])\n",
    "smp_tree.insert([1, 3, 4])\n",
    "smp_tree.insert([2, 3, 4])"
   ]
  },
  {
   "cell_type": "code",
   "execution_count": 8,
   "id": "439fd547-97fb-4617-be9d-16e85690ac3c",
   "metadata": {},
   "outputs": [
    {
     "data": {
      "text/plain": [
       "[1, 0, 1]"
      ]
     },
     "execution_count": 8,
     "metadata": {},
     "output_type": "execute_result"
    }
   ],
   "source": [
    "smp_tree.compute_persistence(persistence_dim_max=True)\n",
    "\n",
    "smp_tree.betti_numbers()"
   ]
  },
  {
   "cell_type": "code",
   "execution_count": null,
   "id": "e57ea7c1-8387-4927-b33d-57e61869bb3b",
   "metadata": {},
   "outputs": [],
   "source": []
  },
  {
   "cell_type": "markdown",
   "id": "d38703cc-a313-4c48-810b-570ee60b2c23",
   "metadata": {},
   "source": [
    "### Torus triangulation"
   ]
  },
  {
   "cell_type": "code",
   "execution_count": 9,
   "id": "c0dcdf1d-86e5-40be-8090-44fb24d9582b",
   "metadata": {},
   "outputs": [],
   "source": [
    "simplices = [\n",
    "    [0, 1, 3],\n",
    "    [1, 3, 5], \n",
    "    [1, 2, 5], \n",
    "    [2, 7, 5], \n",
    "    [2, 7, 0], \n",
    "    [0, 7, 3],\n",
    "    [3, 4, 5], \n",
    "    [5, 6, 4], \n",
    "    [5, 6, 7],\n",
    "    [7, 8, 6],\n",
    "    [7, 8, 3],\n",
    "    [3, 4, 8],\n",
    "    [4, 0, 6], \n",
    "    [6, 1, 0],\n",
    "    [1, 6, 8],\n",
    "    [1, 2, 8],\n",
    "    [2, 4, 8],\n",
    "    [2, 4, 0]\n",
    "]"
   ]
  },
  {
   "cell_type": "code",
   "execution_count": 12,
   "id": "2258b130-0688-49b3-bf37-283b61cd2931",
   "metadata": {},
   "outputs": [],
   "source": [
    "smp_tree = gd.simplex_tree.SimplexTree()"
   ]
  },
  {
   "cell_type": "code",
   "execution_count": 13,
   "id": "cf2108f6-f3f1-4027-b63f-4cef46f49ea9",
   "metadata": {},
   "outputs": [],
   "source": [
    "for simplex in simplices:\n",
    "    smp_tree.insert(simplex)"
   ]
  },
  {
   "cell_type": "code",
   "execution_count": 14,
   "id": "caad2fca-14af-4686-9a2f-ec20bbefee6d",
   "metadata": {},
   "outputs": [
    {
     "data": {
      "text/plain": [
       "[1, 2, 1]"
      ]
     },
     "execution_count": 14,
     "metadata": {},
     "output_type": "execute_result"
    }
   ],
   "source": [
    "smp_tree.compute_persistence(persistence_dim_max=True)\n",
    "\n",
    "smp_tree.betti_numbers()"
   ]
  },
  {
   "cell_type": "code",
   "execution_count": null,
   "id": "8b9e56ee-c59c-4688-b0ed-60cdc78c5848",
   "metadata": {},
   "outputs": [],
   "source": []
  },
  {
   "cell_type": "code",
   "execution_count": null,
   "id": "c8449592-1f30-41da-8679-55a82c78af91",
   "metadata": {},
   "outputs": [],
   "source": []
  }
 ],
 "metadata": {
  "kernelspec": {
   "display_name": "Python 3 (ipykernel)",
   "language": "python",
   "name": "python3"
  },
  "language_info": {
   "codemirror_mode": {
    "name": "ipython",
    "version": 3
   },
   "file_extension": ".py",
   "mimetype": "text/x-python",
   "name": "python",
   "nbconvert_exporter": "python",
   "pygments_lexer": "ipython3",
   "version": "3.11.8"
  }
 },
 "nbformat": 4,
 "nbformat_minor": 5
}
